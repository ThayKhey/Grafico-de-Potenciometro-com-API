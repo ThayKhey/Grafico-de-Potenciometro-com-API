{
  "cells": [
    {
      "cell_type": "markdown",
      "source": [
        "Verfica a saúde do servidor (Funcionamento correto)"
      ],
      "metadata": {
        "id": "Ri3mKDHPHSDR"
      }
    },
    {
      "cell_type": "code",
      "execution_count": null,
      "metadata": {
        "id": "xKCaIU-f4EMt"
      },
      "outputs": [],
      "source": [
        "import requests\n",
        "\n",
        "r = requests.get('http://{{url}}:1026/version', auth=('user', 'pass'))\n",
        "r.status_code\n",
        "r.json()"
      ]
    },
    {
      "cell_type": "markdown",
      "source": [
        "Solicita série de dados temporais via método Get HTTP."
      ],
      "metadata": {
        "id": "J3y2dC5THZ_Z"
      }
    },
    {
      "cell_type": "code",
      "execution_count": null,
      "metadata": {
        "id": "aPIFHA5cjpP6"
      },
      "outputs": [],
      "source": [
        "import requests\n",
        "import matplotlib.pyplot as plt\n",
        "import numpy as np\n",
        "\n",
        "# Função para obter os dados de luminosidade a partir da API\n",
        "def obter_dados_potentiometer(lastN):\n",
        "    url = f\"http://{{url}}:8666/STH/v1/contextEntities/type/device/id/urn:ngsi-ld:device:001/attributes/potentiometer?lastN={lastN}\"\n",
        "\n",
        "    headers = {\n",
        "        'fiware-service': 'smart',\n",
        "        'fiware-servicepath': '/'\n",
        "    }\n",
        "\n",
        "    response = requests.get(url, headers=headers)\n",
        "\n",
        "    if response.status_code == 200:\n",
        "        data = response.json()\n",
        "        luminosity_data = data['contextResponses'][0]['contextElement']['attributes'][0]['values']\n",
        "        return luminosity_data\n",
        "    else:\n",
        "        print(f\"Erro ao obter dados: {response.status_code}\")\n",
        "        return []\n",
        "\n",
        "# Função para criar e exibir o gráfico\n",
        "def plotar_grafico(potentiometer_data):\n",
        "    if not potentiometer_data:\n",
        "        print(\"Nenhum dado disponível para plotar.\")\n",
        "        return\n",
        "\n",
        "    potentiometer = [entry['attrValue'] for entry in potentiometer_data]\n",
        "    tempos = [entry['recvTime'] for entry in potentiometer_data]\n",
        "\n",
        "    plt.figure(figsize=(12, 6))\n",
        "    plt.plot(tempos, potentiometer, marker='o', linestyle='-', color='r')\n",
        "    plt.title('Gráfico de mediçoes do potênciometro em função do Tempo')\n",
        "    plt.xlabel('Tempo')\n",
        "    plt.ylabel('Valores')\n",
        "    plt.xticks(rotation=90)\n",
        "    plt.grid(True)\n",
        "    plt.tight_layout()\n",
        "    plt.show()\n",
        "\n",
        "# Solicitar ao usuário um valor \"lastN\" entre 1 e 100\n",
        "while True:\n",
        "    try:\n",
        "        lastN = int(input(\"Digite um valor para lastN (entre 1 e 100): \"))\n",
        "        if 1 <= lastN <= 100:\n",
        "            break\n",
        "        else:\n",
        "            print(\"O valor deve estar entre 1 e 100. Tente novamente.\")\n",
        "    except ValueError:\n",
        "        print(\"Por favor, digite um número válido.\")\n",
        "\n",
        "# Obter os dados de luminosidade e plotar o gráfico\n",
        "potentiometer_data = obter_dados_potentiometer(lastN)\n",
        "plotar_grafico(potentiometer_data)\n"
      ]
    }
  ],
  "metadata": {
    "colab": {
      "provenance": []
    },
    "kernelspec": {
      "display_name": "Python 3",
      "name": "python3"
    },
    "language_info": {
      "name": "python"
    }
  },
  "nbformat": 4,
  "nbformat_minor": 0
}